{
 "cells": [
  {
   "cell_type": "markdown",
   "metadata": {},
   "source": [
    "# 1. 文本预处理"
   ]
  },
  {
   "cell_type": "code",
   "execution_count": 1,
   "metadata": {},
   "outputs": [],
   "source": [
    "import collections\n",
    "import re\n",
    "from d2l import torch as d2l"
   ]
  },
  {
   "cell_type": "markdown",
   "metadata": {},
   "source": [
    "① 将数据集读取到由文本行组成的列表中。"
   ]
  },
  {
   "cell_type": "code",
   "execution_count": 2,
   "metadata": {},
   "outputs": [
    {
     "name": "stdout",
     "output_type": "stream",
     "text": [
      "the time machine by h g wells\n",
      "twinkled and his usually pale face was flushed and animated the\n"
     ]
    }
   ],
   "source": [
    "# 下载并存储 'time_machine' 数据集的 URL 和哈希值\n",
    "d2l.DATA_HUB['time_machine'] = (d2l.DATA_URL + 'timemachine.txt',\n",
    "                               '090b5e7e70c295757f55df93cb0a180b9691891a')  \n",
    "\n",
    "def read_time_machine():\n",
    "    \"\"\"Load the time machine dataset into a list of text lines. \"\"\"\n",
    "    \"\"\"将时间机器数据集加载为文本行的列表。\"\"\"\n",
    "    # 打开 'time_machine' 数据集文件，并使用文件对象 f 进行操作\n",
    "    with open(d2l.download('time_machine'), 'r') as f:\n",
    "        # 读取文件的所有行，并将每行存储在列表 lines 中\n",
    "        lines = f.readlines()\n",
    "        # 把不是大写字母、小写字母的东西，全部变成空格\n",
    "        # 去除非字母字符，并转换为小写\n",
    "    return [re.sub('[^A-Za-z]+',' ',line).strip().lower() for line in lines]   \n",
    "\n",
    "# 读取时间机器数据集，并将结果存储在 'lines' 变量中\n",
    "lines = read_time_machine()\n",
    "# 打印数据集的第一行\n",
    "print(lines[0])\n",
    "# 打印数据集的第11行（索引为10）\n",
    "print(lines[10])"
   ]
  },
  {
   "cell_type": "markdown",
   "metadata": {},
   "source": [
    "② 每个文本序列又被拆分成一个标记列表。"
   ]
  },
  {
   "cell_type": "code",
   "execution_count": 3,
   "metadata": {},
   "outputs": [
    {
     "name": "stdout",
     "output_type": "stream",
     "text": [
      "['the', 'time', 'machine', 'by', 'h', 'g', 'wells']\n",
      "[]\n",
      "[]\n",
      "[]\n",
      "[]\n",
      "['i']\n",
      "[]\n",
      "[]\n",
      "['the', 'time', 'traveller', 'for', 'so', 'it', 'will', 'be', 'convenient', 'to', 'speak', 'of', 'him']\n",
      "['was', 'expounding', 'a', 'recondite', 'matter', 'to', 'us', 'his', 'grey', 'eyes', 'shone', 'and']\n",
      "['twinkled', 'and', 'his', 'usually', 'pale', 'face', 'was', 'flushed', 'and', 'animated', 'the']\n"
     ]
    }
   ],
   "source": [
    "def tokenize(lines, token='word'):\n",
    "    \"\"\"\n",
    "    将文本行列表进行分词处理。\n",
    "\n",
    "    Parameters:\n",
    "        lines (list): 文本行列表。\n",
    "        token (str): 令牌类型，可选值为 'word'（默认）或 'char'。\n",
    "\n",
    "    Returns:\n",
    "        list: 分词后的结果列表。\n",
    "\n",
    "    Raises:\n",
    "        None\n",
    "    \"\"\"\n",
    "    # 如果令牌类型为 'word'\n",
    "    if token == 'word':\n",
    "        # 以空格为分隔符将每行字符串拆分为单词列表\n",
    "        return [line.split() for line in lines]\n",
    "    # 如果令牌类型为 'char'\n",
    "    elif token == 'char':\n",
    "        # 将每行字符串拆分为字符列表\n",
    "        return [list(line) for line in lines]\n",
    "    else:\n",
    "        # 若指定的令牌类型无效，则打印错误信息\n",
    "        print('错位：未知令牌类型：' + token)\n",
    "# 对 lines 进行分词处理，使用默认的 'word' 令牌类型        \n",
    "tokens = tokenize(lines)\n",
    "# 打印前11行的分词结果\n",
    "for i in range(11):\n",
    "    # 空列表表示空行\n",
    "    print(tokens[i]) "
   ]
  },
  {
   "cell_type": "markdown",
   "metadata": {},
   "source": [
    "③ 构建一个字典，通常也叫做词表（vocabulary），用来你将字符串标记映射到从0开始的数字索引中。"
   ]
  },
  {
   "cell_type": "code",
   "execution_count": 4,
   "metadata": {},
   "outputs": [],
   "source": [
    "class Vocab:\n",
    "    \"\"\"文本词表\"\"\"\n",
    "    def __init__(self, tokens=None,min_freq=0,reserved_tokens=None):\n",
    "        \"\"\"\n",
    "        初始化词表对象。\n",
    "\n",
    "        Parameters:\n",
    "            tokens (list): 标记列表（默认为 None）。\n",
    "            min_freq (int): 最小频率阈值，低于该频率的标记将被过滤掉（默认为 0）。\n",
    "            reserved_tokens (list): 保留的特殊标记列表（默认为 None）。\n",
    "\n",
    "        Returns:\n",
    "            None\n",
    "\n",
    "        Raises:\n",
    "            None\n",
    "        \"\"\"\n",
    "        # 如果输入的 tokens 为 None，则将其设置为空列表\n",
    "        if tokens is None:\n",
    "            tokens = []\n",
    "        # 如果保留的特殊标记列表 reserved_tokens 为 None，则将其设置为空列表\n",
    "        if reserved_tokens is None:\n",
    "            reserved_tokens = []\n",
    "        # 统计 tokens 中标记的频率，并返回一个包含标记频率的 Counter 对象\n",
    "        counter = count_corpus(tokens) # 遍历得到每一个独一无二token出现的次数\n",
    "        # 根据标记的频率进行排序，并将结果存储在 self.token_freqs 中\n",
    "        # sorted() 函数使用 counter.items() 作为排序对象，使用标记频率 x[1] 作为排序依据，降序排序\n",
    "        self.token_freqs = sorted(counter.items(),key=lambda x:x[1],reverse=True)\n",
    "        # 设置未知标记索引为 0，构建包含未知标记和保留特殊标记的列表 uniq_tokens\n",
    "        self.unk, uniq_tokens = 0, ['<unk>'] + reserved_tokens \n",
    "        # 将频率大于等于 min_freq 且不在 uniq_tokens 中的标记添加到 uniq_tokens 列表中\n",
    "        uniq_tokens += [token for token, freq in self.token_freqs\n",
    "                       if freq >= min_freq and token not in uniq_tokens]\n",
    "        # 初始化索引到标记和标记到索引的空列表和字典\n",
    "        self.idx_to_token, self.token_to_idx = [], dict()\n",
    "        # 遍历 uniq_tokens 中的每个标记，将其添加到索引到标记的列表中，并将标记和对应索引存储到标记到索引的字典中\n",
    "        # 索引值从 0 开始递增，对应于标记在列表中的位置\n",
    "        for token in uniq_tokens:\n",
    "            # 将当前标记 `token` 添加到索引到标记的列表 `self.idx_to_token` 的末尾\n",
    "            self.idx_to_token.append(token)\n",
    "            # 将当前标记 `token` 和其对应的索引值存储到标记到索引的字典 `self.token_to_idx` 中\n",
    "            # 索引值是 `self.idx_to_token` 列表的长度减去 1，即标记在列表中的位置索引\n",
    "            self.token_to_idx[token] = len(self.idx_to_token) - 1\n",
    "            \n",
    "    def __len__(self):\n",
    "        \"\"\"\n",
    "        获取词表的长度。\n",
    "\n",
    "        Parameters:\n",
    "            None\n",
    "\n",
    "        Returns:\n",
    "            int: 词表的长度。\n",
    "\n",
    "        Raises:\n",
    "            None\n",
    "        \"\"\"\n",
    "        # 获取词表的长度\n",
    "        return len(self.idx_to_token)\n",
    "    \n",
    "    def __getitem__(self, tokens):\n",
    "        \"\"\"\n",
    "        根据标记获取其对应的索引或索引列表。\n",
    "\n",
    "        Parameters:\n",
    "            tokens (str or list): 标记字符串或标记列表。\n",
    "\n",
    "        Returns:\n",
    "            int or list: 标记的索引或索引列表。\n",
    "\n",
    "        Raises:\n",
    "            None\n",
    "        \"\"\"\n",
    "        # 如果 tokens 不是列表或元组，则返回对应的索引或默认的未知标记索引\n",
    "        if not isinstance(tokens, (list, tuple)):\n",
    "            return self.token_to_idx.get(tokens, self.unk)\n",
    "        # 对于输入的标记列表 tokens，逐个调用 self.__getitem__() 方法获取每个标记对应的索引值，并返回索引值的列表  \n",
    "        return [self.__getitem__(token) for token in tokens]\n",
    "    \n",
    "    def to_tokens(self, indices):\n",
    "        \"\"\"\n",
    "        根据索引获取对应的标记或标记列表。\n",
    "\n",
    "        Parameters:\n",
    "            indices (int or list): 索引或索引列表。\n",
    "\n",
    "        Returns:\n",
    "            str or list: 索引对应的标记或标记列表。\n",
    "\n",
    "        Raises:\n",
    "            None\n",
    "        \"\"\"\n",
    "        # 如果输入的 indices 不是列表或元组类型，则返回对应索引值处的标记\n",
    "        if not isinstance(indices, (list, tuple)):\n",
    "            return self.idx_to_token[indices]\n",
    "        # 对于输入的索引列表 indices，逐个取出每个索引值 index，并通过 self.idx_to_token[index] 获取对应的标记值，最后返回标记值组成的列表\n",
    "        return [self.idx_to_token[index] for index in indices]\n",
    "    \n",
    "def count_corpus(tokens):\n",
    "    \"\"\"\n",
    "    统计标记的频率。\n",
    "\n",
    "    Parameters:\n",
    "        tokens (list): 标记列表。\n",
    "\n",
    "    Returns:\n",
    "        collections.Counter: 包含标记频率的 Counter 对象。\n",
    "\n",
    "    Raises:\n",
    "        None\n",
    "    \"\"\"\n",
    "    # 检查 tokens 是否是一个列表的列表\n",
    "    if len(tokens) == 0 or isinstance(tokens[0], list):\n",
    "        # 如果 tokens 是一个列表的列表，则将其展平为一维列表\n",
    "        tokens = [token for line in tokens for token in line]\n",
    "    # 使用 collections.Counter 统计标记的频率\n",
    "    return collections.Counter(tokens) "
   ]
  },
  {
   "cell_type": "markdown",
   "metadata": {},
   "source": [
    "④ 构建词汇表"
   ]
  },
  {
   "cell_type": "code",
   "execution_count": 5,
   "metadata": {},
   "outputs": [
    {
     "name": "stdout",
     "output_type": "stream",
     "text": [
      "[('<unk>', 0), ('the', 1), ('i', 2), ('and', 3), ('of', 4), ('a', 5), ('to', 6), ('was', 7), ('in', 8), ('that', 9)]\n"
     ]
    }
   ],
   "source": [
    "# 创建一个 Vocab 对象，将标记列表 tokens 作为参数传入，用于构建词表\n",
    "vocab = Vocab(tokens)\n",
    "# 获取词表中的前 10 个标记及其对应的索引值，并将其转换为列表进行打印输出\n",
    "print(list(vocab.token_to_idx.items())[:10])"
   ]
  },
  {
   "cell_type": "markdown",
   "metadata": {},
   "source": [
    "④ 将每一行文本转换成一个数字索引列表。"
   ]
  },
  {
   "cell_type": "code",
   "execution_count": 6,
   "metadata": {},
   "outputs": [
    {
     "name": "stdout",
     "output_type": "stream",
     "text": [
      "word: ['the', 'time', 'machine', 'by', 'h', 'g', 'wells']\n",
      "indices: [1, 19, 50, 40, 2183, 2184, 400]\n",
      "word: ['twinkled', 'and', 'his', 'usually', 'pale', 'face', 'was', 'flushed', 'and', 'animated', 'the']\n",
      "indices: [2186, 3, 25, 1044, 362, 113, 7, 1421, 3, 1045, 1]\n"
     ]
    }
   ],
   "source": [
    "# 遍历索引列表 [0, 10]\n",
    "for i in [0,10]:\n",
    "    # 打印当前索引 i 处的标记（单词）\n",
    "    print('word:', tokens[i])\n",
    "    # 获取当前标记在词表中的索引值\n",
    "    # 打印当前标记在词表中的索引值（对应的索引值或未知标记索引）\n",
    "    print('indices:',vocab[tokens[i]])"
   ]
  },
  {
   "cell_type": "markdown",
   "metadata": {},
   "source": [
    "⑤ 将所有内容打包到load_corpus_time_machine函数中。"
   ]
  },
  {
   "cell_type": "code",
   "execution_count": 7,
   "metadata": {},
   "outputs": [
    {
     "data": {
      "text/plain": [
       "(170580, 28)"
      ]
     },
     "execution_count": 7,
     "metadata": {},
     "output_type": "execute_result"
    }
   ],
   "source": [
    "def load_corpus_time_machine(max_tokens=-1):\n",
    "    \"\"\"返回时光机器数据集的标记索引列表和词汇表\"\"\"\n",
    "    # 加载时光机器数据集的文本行\n",
    "    lines = read_time_machine()\n",
    "    # 将文本行转换为字符标记列表\n",
    "    tokens = tokenize(lines, 'char')\n",
    "    # 构建词汇表\n",
    "    vocab = Vocab(tokens)\n",
    "    # 将文本转换为标记索引列表\n",
    "    corpus = [vocab[token] for line in tokens for token in line]  \n",
    "    # 截断文本长度（若有限制）\n",
    "    if max_tokens > 0:\n",
    "        # 如果设置了最大标记数 max_tokens，对标记索引列表 corpus 进行截断，只保留前 max_tokens 个标记\n",
    "        corpus = corpus[:max_tokens]\n",
    "    # 返回截断后的标记索引列表 corpus 和词汇表 vocab\n",
    "    return corpus, vocab\n",
    "\n",
    "# 载入时光机器数据集的标记索引列表和词汇表\n",
    "corpus, vocab = load_corpus_time_machine()\n",
    "# 打印时光机器数据集的标记数和词汇表大小\n",
    "len(corpus), len(vocab)"
   ]
  }
 ],
 "metadata": {
  "kernelspec": {
   "display_name": "Python 3.6.3",
   "language": "python",
   "name": "python3.6.3"
  },
  "language_info": {
   "codemirror_mode": {
    "name": "ipython",
    "version": 3
   },
   "file_extension": ".py",
   "mimetype": "text/x-python",
   "name": "python",
   "nbconvert_exporter": "python",
   "pygments_lexer": "ipython3",
   "version": "3.6.3"
  },
  "toc": {
   "base_numbering": 1,
   "nav_menu": {},
   "number_sections": false,
   "sideBar": true,
   "skip_h1_title": false,
   "title_cell": "Table of Contents",
   "title_sidebar": "Contents",
   "toc_cell": false,
   "toc_position": {
    "height": "2041.23px",
    "left": "45.9792px",
    "top": "56px",
    "width": "301.875px"
   },
   "toc_section_display": true,
   "toc_window_display": true
  }
 },
 "nbformat": 4,
 "nbformat_minor": 4
}
